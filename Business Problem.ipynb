{
    "cells": [
        {
            "cell_type": "markdown",
            "metadata": {
                "collapsed": true
            },
            "source": "# Business Problem"
        },
        {
            "cell_type": "markdown",
            "metadata": {},
            "source": "<h3>In this fast moving world no one is safe. The whole world suffers due to car accidents. Thousands of people looses their life in car accidents due to some controllable factors like not paying enough attention during driving, abusing drugs and alcohol or driving at very high speed or some uncontrollable factors like weather, visibility, or road conditions.\nWe are tring to solve this problem by giving warning to driver and remind them to drive carefully in critical situations. We are going to predict accident severity depending upon the factors such as current weather,road and visibility conditions which are already given to us. This project aims to reduce numbers of car accidents on highway in seattle.  The target audience of the project will be local government, police and car insurance companies.<h3>"
        },
        {
            "cell_type": "code",
            "execution_count": null,
            "metadata": {},
            "outputs": [],
            "source": ""
        }
    ],
    "metadata": {
        "kernelspec": {
            "display_name": "Python 3.6",
            "language": "python",
            "name": "python3"
        },
        "language_info": {
            "codemirror_mode": {
                "name": "ipython",
                "version": 3
            },
            "file_extension": ".py",
            "mimetype": "text/x-python",
            "name": "python",
            "nbconvert_exporter": "python",
            "pygments_lexer": "ipython3",
            "version": "3.6.9"
        }
    },
    "nbformat": 4,
    "nbformat_minor": 1
}