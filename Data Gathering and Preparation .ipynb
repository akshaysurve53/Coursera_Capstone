{
    "cells": [
        {
            "cell_type": "markdown",
            "metadata": {
                "collapsed": true
            },
            "source": "# Data Collection"
        },
        {
            "cell_type": "markdown",
            "metadata": {},
            "source": "I have considered Seattle Collision Dataset for solving this problem. I have downloaded this data set from https://s3.us.cloud-object-storage.appdomain.cloud/cf-courses-data/CognitiveClass/DP0701EN/version-2/Data-Collisions.csv It contains 194673 observations. It's having total 37 columns from which 37 are attributes and 1 is severity label.\n\nDataset contains several attributes such as:\n\n1.SEVERITYCODE 2.X 3.Y 4.OBJECTID 5.INCKEY 6.COLDETKEY 7.REPORTNO 8.STATUS 9.ADDRTYPE 10.INTKEY 11.LOCATION 12.EXCEPTRSNCODE 13.EXCEPTRSNDESC 14.SEVERITYCODE.1 15.SEVERITYDESC 16.COLLISIONTYPE 17.PERSONCOUNT 18.PEDCOUNT 19.PEDCYLCOUNT 20.VEHCOUNT 21.INCDATE 22.INCDTTM 23.JUNCTIONTYPE 24.SDOT_COLCODE 25.SDOR_COLDESC 26.INATTENTIONIND 27.UNDERINFL 28.WEATHER 29.ROADCOND 30.LIGHTCOND 31.PEDROWNOTGRNT 32.SDOTCOLUMN 33.SPEEDING 34.ST_COLCODE 35.ST_COLDESC 36.SEGLANEKEY 37.CROSSWALKKEY 38.HITPARKEDCAR\n\nWe are going to predict \"SEVERITYCODE\" as a target variable.\nData set is already labled with 0 - Property damage only. 1- Severe Injury. We are going to use this data set for supervise learning data model. Before starting we need to clean the data as it's having many unnecessary attributes and missing values. "
        },
        {
            "cell_type": "code",
            "execution_count": null,
            "metadata": {},
            "outputs": [],
            "source": ""
        }
    ],
    "metadata": {
        "kernelspec": {
            "display_name": "Python 3.6",
            "language": "python",
            "name": "python3"
        },
        "language_info": {
            "codemirror_mode": {
                "name": "ipython",
                "version": 3
            },
            "file_extension": ".py",
            "mimetype": "text/x-python",
            "name": "python",
            "nbconvert_exporter": "python",
            "pygments_lexer": "ipython3",
            "version": "3.6.9"
        }
    },
    "nbformat": 4,
    "nbformat_minor": 1
}